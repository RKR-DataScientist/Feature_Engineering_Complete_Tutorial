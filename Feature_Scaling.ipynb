{
  "nbformat": 4,
  "nbformat_minor": 0,
  "metadata": {
    "colab": {
      "name": "Feature_Scaling.ipynb",
      "provenance": [],
      "collapsed_sections": []
    },
    "kernelspec": {
      "name": "python3",
      "display_name": "Python 3"
    }
  },
  "cells": [
    {
      "cell_type": "markdown",
      "metadata": {
        "id": "FA7P5HvxpPj2",
        "colab_type": "text"
      },
      "source": [
        "# What is Feature Scaling\n",
        "- Features means columns name\n",
        "- Scaling means Number counts of values\n",
        "\n",
        "Feature scaling is a method to scale numeric features in the same scale or range(like:- 1 to 1, 0 to 1)\n",
        "\n",
        "1. This last step involves in Data Preprocessing and before ML model training\n",
        "2. It is also called as data normalization\n",
        "3. We apply features scaling on independent variable\n",
        "4. we fit features scaling with train data and transform on train and test data.\n",
        "\n",
        "#### Why Scaling\n",
        "Most of the times, your dataset will contain features highly varying in magnitudes, units and range. But since, most of the machine learning algorithms use Euclidean distance between two data points in their computations, this is a problem.\n",
        "\n",
        "If left alone, these algorithms only take in the magnitude of features neglecting the units. The results would vary greatly between different units, 5kg and 5000gms. The features with high magnitudes will weigh in a lot more in the distance calculations than features with low magnitudes. To suppress this effect, we need to bring all features to the same level of magnitudes. This can be achieved by scaling.\n",
        "\n",
        "#### Which ML Algorithms Required Feature Scaling?\n",
        "Those Algorithms Calculate Euclidean distance  through which it do measure is sensitive to magnitudes and hence should be scaled for all features to weigh in equally.\n",
        "\n",
        "- K-Nearest Neighbors (KNN)\n",
        "- K-Means\n",
        "- Support Vector Machine (SVM)\n",
        "- Principal Component Analysis(PCA) :- PCA tries to get the features with maximum variance and the variance is high for high magnitude features. This skews the PCA towards high magnitude features.\n",
        "- Linear Discriminant Analysis & Naive Bayes are by design equipped to handle this and gives weights to the features accordingly. Performing a features scaling in these algorithms may not have much effect.\n",
        "\n",
        "**Gradient Descent Based Algorithms** :- This is because θ will descend quickly on small ranges and slowly on large ranges, and so will oscillate inefficiently down to the optimum when the variables are very uneven.\n",
        "- Linear Regression,\n",
        "- Logistic Regression\n",
        "- Neural Network\n",
        "\n",
        "#### Tree Based Algorithms not required Feature scaling \n",
        "These are not distance based models and can handle varying ranges of features. Hence, Scaling is not required while modelling trees.\n",
        "- Decision Tree, Random Forest, XGBoost\n",
        "\n",
        "### Types of Feature Scaling\n",
        "- 1) Min Max Scaler\n",
        "\n",
        "- 2) Standard Scaler\n",
        "\n",
        "- 3) Max Abs Scaler\n",
        "\n",
        "- 4) Robust Scaler\n",
        "\n",
        "- 5) Quantile Transformer Scaler\n",
        "\n",
        "- 6) Power Transformer Scaler\n",
        "\n",
        "- 7) Unit Vector Scaler\n",
        "\n",
        "**It can be done by using Standardization vs Normalization**"
      ]
    },
    {
      "cell_type": "markdown",
      "metadata": {
        "id": "RC6QqTz-wNhd",
        "colab_type": "text"
      },
      "source": [
        "## What is Standardization?\n",
        "- Standardization rescale the feature such as mean(μ) = 0 and standard deviation (σ) = 1.\n",
        "- The result of standardization is Z called as Z-score normalization.\n",
        "- If data follow a normal distribution (gaussian distribution), Mean would be in Bell Curve. Then will do Standardization.\n",
        "- If the original distribution is normal, then the standardized distribution will be normal.\n",
        "- If the original distribution is skewed, then the standardized distribution of the variable will also be skewed.\n",
        "\n",
        "## What is Normalization?\n",
        "- Normalization rescale the feature in fixed range between 0 to 1.\n",
        "- Normalization also called as Min-Max Scaling. Becuase we are finding min value and then max value, then doing calculation.\n",
        "- If data doesn’t follow normal distribution (Gaussian distribution). means data would be in Skewed format, not in bell curve.\n",
        "\n",
        "### Standardization  vs Normalization\n",
        "- There is no any thumb rule to use Standardization or Normalization for special ML algo.\n",
        "\n",
        "- But mostly Standardization use for clustering analyses, Principal Component Analysis(PCA).\n",
        "\n",
        "- Normalization prefers for Image processing because of pixel intensity between 0 to 255, neural network algorithm requires data in scale 0-1, K-Nearest Neighbors."
      ]
    },
    {
      "cell_type": "code",
      "metadata": {
        "id": "18zvD6X5oAN_",
        "colab_type": "code",
        "colab": {
          "base_uri": "https://localhost:8080/",
          "height": 70
        },
        "outputId": "0b5b97ea-8d64-43a4-aa33-90d199c24c46"
      },
      "source": [
        "# import libraries\n",
        "import pandas as pd \n",
        "import seaborn as sns\n",
        "from sklearn.preprocessing import StandardScaler # for standardScaler\n",
        "from sklearn.preprocessing import MinMaxScaler # for normalization\n",
        "from sklearn.model_selection import train_test_split"
      ],
      "execution_count": 1,
      "outputs": [
        {
          "output_type": "stream",
          "text": [
            "/usr/local/lib/python3.6/dist-packages/statsmodels/tools/_testing.py:19: FutureWarning: pandas.util.testing is deprecated. Use the functions in the public API at pandas.testing instead.\n",
            "  import pandas.util.testing as tm\n"
          ],
          "name": "stderr"
        }
      ]
    },
    {
      "cell_type": "code",
      "metadata": {
        "id": "GcBSeZGX4UzM",
        "colab_type": "code",
        "colab": {
          "base_uri": "https://localhost:8080/",
          "height": 215
        },
        "outputId": "78c66f1a-b011-4f91-df24-8c3178ecdb6c"
      },
      "source": [
        "# load inbuild dataset of titanic\n",
        "df = sns.load_dataset('titanic')\n",
        "df.head()"
      ],
      "execution_count": 2,
      "outputs": [
        {
          "output_type": "execute_result",
          "data": {
            "text/html": [
              "<div>\n",
              "<style scoped>\n",
              "    .dataframe tbody tr th:only-of-type {\n",
              "        vertical-align: middle;\n",
              "    }\n",
              "\n",
              "    .dataframe tbody tr th {\n",
              "        vertical-align: top;\n",
              "    }\n",
              "\n",
              "    .dataframe thead th {\n",
              "        text-align: right;\n",
              "    }\n",
              "</style>\n",
              "<table border=\"1\" class=\"dataframe\">\n",
              "  <thead>\n",
              "    <tr style=\"text-align: right;\">\n",
              "      <th></th>\n",
              "      <th>survived</th>\n",
              "      <th>pclass</th>\n",
              "      <th>sex</th>\n",
              "      <th>age</th>\n",
              "      <th>sibsp</th>\n",
              "      <th>parch</th>\n",
              "      <th>fare</th>\n",
              "      <th>embarked</th>\n",
              "      <th>class</th>\n",
              "      <th>who</th>\n",
              "      <th>adult_male</th>\n",
              "      <th>deck</th>\n",
              "      <th>embark_town</th>\n",
              "      <th>alive</th>\n",
              "      <th>alone</th>\n",
              "    </tr>\n",
              "  </thead>\n",
              "  <tbody>\n",
              "    <tr>\n",
              "      <th>0</th>\n",
              "      <td>0</td>\n",
              "      <td>3</td>\n",
              "      <td>male</td>\n",
              "      <td>22.0</td>\n",
              "      <td>1</td>\n",
              "      <td>0</td>\n",
              "      <td>7.2500</td>\n",
              "      <td>S</td>\n",
              "      <td>Third</td>\n",
              "      <td>man</td>\n",
              "      <td>True</td>\n",
              "      <td>NaN</td>\n",
              "      <td>Southampton</td>\n",
              "      <td>no</td>\n",
              "      <td>False</td>\n",
              "    </tr>\n",
              "    <tr>\n",
              "      <th>1</th>\n",
              "      <td>1</td>\n",
              "      <td>1</td>\n",
              "      <td>female</td>\n",
              "      <td>38.0</td>\n",
              "      <td>1</td>\n",
              "      <td>0</td>\n",
              "      <td>71.2833</td>\n",
              "      <td>C</td>\n",
              "      <td>First</td>\n",
              "      <td>woman</td>\n",
              "      <td>False</td>\n",
              "      <td>C</td>\n",
              "      <td>Cherbourg</td>\n",
              "      <td>yes</td>\n",
              "      <td>False</td>\n",
              "    </tr>\n",
              "    <tr>\n",
              "      <th>2</th>\n",
              "      <td>1</td>\n",
              "      <td>3</td>\n",
              "      <td>female</td>\n",
              "      <td>26.0</td>\n",
              "      <td>0</td>\n",
              "      <td>0</td>\n",
              "      <td>7.9250</td>\n",
              "      <td>S</td>\n",
              "      <td>Third</td>\n",
              "      <td>woman</td>\n",
              "      <td>False</td>\n",
              "      <td>NaN</td>\n",
              "      <td>Southampton</td>\n",
              "      <td>yes</td>\n",
              "      <td>True</td>\n",
              "    </tr>\n",
              "    <tr>\n",
              "      <th>3</th>\n",
              "      <td>1</td>\n",
              "      <td>1</td>\n",
              "      <td>female</td>\n",
              "      <td>35.0</td>\n",
              "      <td>1</td>\n",
              "      <td>0</td>\n",
              "      <td>53.1000</td>\n",
              "      <td>S</td>\n",
              "      <td>First</td>\n",
              "      <td>woman</td>\n",
              "      <td>False</td>\n",
              "      <td>C</td>\n",
              "      <td>Southampton</td>\n",
              "      <td>yes</td>\n",
              "      <td>False</td>\n",
              "    </tr>\n",
              "    <tr>\n",
              "      <th>4</th>\n",
              "      <td>0</td>\n",
              "      <td>3</td>\n",
              "      <td>male</td>\n",
              "      <td>35.0</td>\n",
              "      <td>0</td>\n",
              "      <td>0</td>\n",
              "      <td>8.0500</td>\n",
              "      <td>S</td>\n",
              "      <td>Third</td>\n",
              "      <td>man</td>\n",
              "      <td>True</td>\n",
              "      <td>NaN</td>\n",
              "      <td>Southampton</td>\n",
              "      <td>no</td>\n",
              "      <td>True</td>\n",
              "    </tr>\n",
              "  </tbody>\n",
              "</table>\n",
              "</div>"
            ],
            "text/plain": [
              "   survived  pclass     sex   age  ...  deck  embark_town  alive  alone\n",
              "0         0       3    male  22.0  ...   NaN  Southampton     no  False\n",
              "1         1       1  female  38.0  ...     C    Cherbourg    yes  False\n",
              "2         1       3  female  26.0  ...   NaN  Southampton    yes   True\n",
              "3         1       1  female  35.0  ...     C  Southampton    yes  False\n",
              "4         0       3    male  35.0  ...   NaN  Southampton     no   True\n",
              "\n",
              "[5 rows x 15 columns]"
            ]
          },
          "metadata": {
            "tags": []
          },
          "execution_count": 2
        }
      ]
    },
    {
      "cell_type": "code",
      "metadata": {
        "id": "_-pt_s7X4hjW",
        "colab_type": "code",
        "colab": {
          "base_uri": "https://localhost:8080/",
          "height": 195
        },
        "outputId": "d8e50c56-d144-4c45-9f4a-74acb356f01d"
      },
      "source": [
        "# Now we will perform feature scaling on few columns\n",
        "df2 = df[['survived',\"pclass\",'age','parch']]\n",
        "df2.head()"
      ],
      "execution_count": 3,
      "outputs": [
        {
          "output_type": "execute_result",
          "data": {
            "text/html": [
              "<div>\n",
              "<style scoped>\n",
              "    .dataframe tbody tr th:only-of-type {\n",
              "        vertical-align: middle;\n",
              "    }\n",
              "\n",
              "    .dataframe tbody tr th {\n",
              "        vertical-align: top;\n",
              "    }\n",
              "\n",
              "    .dataframe thead th {\n",
              "        text-align: right;\n",
              "    }\n",
              "</style>\n",
              "<table border=\"1\" class=\"dataframe\">\n",
              "  <thead>\n",
              "    <tr style=\"text-align: right;\">\n",
              "      <th></th>\n",
              "      <th>survived</th>\n",
              "      <th>pclass</th>\n",
              "      <th>age</th>\n",
              "      <th>parch</th>\n",
              "    </tr>\n",
              "  </thead>\n",
              "  <tbody>\n",
              "    <tr>\n",
              "      <th>0</th>\n",
              "      <td>0</td>\n",
              "      <td>3</td>\n",
              "      <td>22.0</td>\n",
              "      <td>0</td>\n",
              "    </tr>\n",
              "    <tr>\n",
              "      <th>1</th>\n",
              "      <td>1</td>\n",
              "      <td>1</td>\n",
              "      <td>38.0</td>\n",
              "      <td>0</td>\n",
              "    </tr>\n",
              "    <tr>\n",
              "      <th>2</th>\n",
              "      <td>1</td>\n",
              "      <td>3</td>\n",
              "      <td>26.0</td>\n",
              "      <td>0</td>\n",
              "    </tr>\n",
              "    <tr>\n",
              "      <th>3</th>\n",
              "      <td>1</td>\n",
              "      <td>1</td>\n",
              "      <td>35.0</td>\n",
              "      <td>0</td>\n",
              "    </tr>\n",
              "    <tr>\n",
              "      <th>4</th>\n",
              "      <td>0</td>\n",
              "      <td>3</td>\n",
              "      <td>35.0</td>\n",
              "      <td>0</td>\n",
              "    </tr>\n",
              "  </tbody>\n",
              "</table>\n",
              "</div>"
            ],
            "text/plain": [
              "   survived  pclass   age  parch\n",
              "0         0       3  22.0      0\n",
              "1         1       1  38.0      0\n",
              "2         1       3  26.0      0\n",
              "3         1       1  35.0      0\n",
              "4         0       3  35.0      0"
            ]
          },
          "metadata": {
            "tags": []
          },
          "execution_count": 3
        }
      ]
    },
    {
      "cell_type": "code",
      "metadata": {
        "id": "D3vPPnT74wDs",
        "colab_type": "code",
        "colab": {
          "base_uri": "https://localhost:8080/",
          "height": 101
        },
        "outputId": "d6e6bdd5-a463-4f3e-efd8-02288274816f"
      },
      "source": [
        "# Let check the any missing values\n",
        "df2.isnull().sum()\n"
      ],
      "execution_count": 4,
      "outputs": [
        {
          "output_type": "execute_result",
          "data": {
            "text/plain": [
              "survived      0\n",
              "pclass        0\n",
              "age         177\n",
              "parch         0\n",
              "dtype: int64"
            ]
          },
          "metadata": {
            "tags": []
          },
          "execution_count": 4
        }
      ]
    },
    {
      "cell_type": "code",
      "metadata": {
        "id": "ResZlnuh4-Ce",
        "colab_type": "code",
        "colab": {
          "base_uri": "https://localhost:8080/",
          "height": 101
        },
        "outputId": "02d76aa8-7fef-4821-ee4c-8832c361e421"
      },
      "source": [
        "# Let's put mean value, as we not dealing with missing concept\n",
        "df3 = df2.fillna(df2.mean())\n",
        "df3.isnull().sum()"
      ],
      "execution_count": 5,
      "outputs": [
        {
          "output_type": "execute_result",
          "data": {
            "text/plain": [
              "survived    0\n",
              "pclass      0\n",
              "age         0\n",
              "parch       0\n",
              "dtype: int64"
            ]
          },
          "metadata": {
            "tags": []
          },
          "execution_count": 5
        }
      ]
    },
    {
      "cell_type": "markdown",
      "metadata": {
        "id": "w1ssv0CAwM5z",
        "colab_type": "text"
      },
      "source": [
        "**Perfect**\n",
        "\n",
        "Now we need to take X and Y. X for matrix of the independent features and Y is vector for dependent features"
      ]
    },
    {
      "cell_type": "code",
      "metadata": {
        "id": "Q-pH6MHm5fuU",
        "colab_type": "code",
        "colab": {
          "base_uri": "https://localhost:8080/",
          "height": 50
        },
        "outputId": "012460cb-100c-4979-a20c-520678d40117"
      },
      "source": [
        "X = df3.drop(\"survived\", axis = 1)\n",
        "Y = df3[\"survived\"]\n",
        "print('Shape of X = ', X.shape)\n",
        "print('Shape of y = ', Y.shape)"
      ],
      "execution_count": 8,
      "outputs": [
        {
          "output_type": "stream",
          "text": [
            "Shape of X =  (891, 3)\n",
            "Shape of y =  (891,)\n"
          ],
          "name": "stdout"
        }
      ]
    },
    {
      "cell_type": "code",
      "metadata": {
        "id": "6C8uhFdO5nkd",
        "colab_type": "code",
        "colab": {
          "base_uri": "https://localhost:8080/",
          "height": 84
        },
        "outputId": "21088197-6e15-47c0-e452-1ae50055d721"
      },
      "source": [
        "# Let's split the data into Train and Test dataset\n",
        "X_train, X_test, Y_train, Y_test =train_test_split(X, Y, test_size=0.2, random_state=51)\n",
        "print('Shape of X_train = ', X_train.shape)\n",
        "print('Shape of y_train = ', Y_train.shape)\n",
        "print('Shape of X_test = ', X_test.shape)\n",
        "print('Shape of y_test = ', Y_test.shape)"
      ],
      "execution_count": 11,
      "outputs": [
        {
          "output_type": "stream",
          "text": [
            "Shape of X_train =  (712, 3)\n",
            "Shape of y_train =  (712,)\n",
            "Shape of X_test =  (179, 3)\n",
            "Shape of y_test =  (179,)\n"
          ],
          "name": "stdout"
        }
      ]
    },
    {
      "cell_type": "markdown",
      "metadata": {
        "id": "eSfgU5ER6MDa",
        "colab_type": "text"
      },
      "source": [
        "## Feature Scaling (Standarlization)\n"
      ]
    },
    {
      "cell_type": "code",
      "metadata": {
        "id": "JPt_v-216B2s",
        "colab_type": "code",
        "colab": {
          "base_uri": "https://localhost:8080/",
          "height": 34
        },
        "outputId": "ac811534-311d-470c-a282-eb6b285c8002"
      },
      "source": [
        "# Now to perform Standard Scaler\n",
        "# Let's create object of stnadarscaler\n",
        "\n",
        "sc = StandardScaler()\n",
        "\n",
        "# let's fit the train data\n",
        "sc.fit(X_train)"
      ],
      "execution_count": 12,
      "outputs": [
        {
          "output_type": "execute_result",
          "data": {
            "text/plain": [
              "StandardScaler(copy=True, with_mean=True, with_std=True)"
            ]
          },
          "metadata": {
            "tags": []
          },
          "execution_count": 12
        }
      ]
    },
    {
      "cell_type": "code",
      "metadata": {
        "id": "vT56Ru4W6thC",
        "colab_type": "code",
        "colab": {
          "base_uri": "https://localhost:8080/",
          "height": 34
        },
        "outputId": "0ce22d7c-654b-46c1-8fd7-3b3f06149303"
      },
      "source": [
        "# if we want to see the mean value\n",
        "sc.mean_"
      ],
      "execution_count": 13,
      "outputs": [
        {
          "output_type": "execute_result",
          "data": {
            "text/plain": [
              "array([ 2.30617978, 29.55409121,  0.39185393])"
            ]
          },
          "metadata": {
            "tags": []
          },
          "execution_count": 13
        }
      ]
    },
    {
      "cell_type": "code",
      "metadata": {
        "id": "hqrzb6wY6yZy",
        "colab_type": "code",
        "colab": {
          "base_uri": "https://localhost:8080/",
          "height": 34
        },
        "outputId": "9ffad6bc-58bc-4c19-c460-0006d9f1ef40"
      },
      "source": [
        "# If we want to see the standard Deviation\n",
        "sc.scale_"
      ],
      "execution_count": 14,
      "outputs": [
        {
          "output_type": "execute_result",
          "data": {
            "text/plain": [
              "array([ 0.84405789, 12.99162985,  0.79647463])"
            ]
          },
          "metadata": {
            "tags": []
          },
          "execution_count": 14
        }
      ]
    },
    {
      "cell_type": "code",
      "metadata": {
        "id": "fDyHAaB375sy",
        "colab_type": "code",
        "colab": {
          "base_uri": "https://localhost:8080/",
          "height": 284
        },
        "outputId": "ee0128ce-9fcd-4b08-a3ef-232f0f5c4c9b"
      },
      "source": [
        "# Let's check the stastics\n",
        "X_train.describe()"
      ],
      "execution_count": 15,
      "outputs": [
        {
          "output_type": "execute_result",
          "data": {
            "text/html": [
              "<div>\n",
              "<style scoped>\n",
              "    .dataframe tbody tr th:only-of-type {\n",
              "        vertical-align: middle;\n",
              "    }\n",
              "\n",
              "    .dataframe tbody tr th {\n",
              "        vertical-align: top;\n",
              "    }\n",
              "\n",
              "    .dataframe thead th {\n",
              "        text-align: right;\n",
              "    }\n",
              "</style>\n",
              "<table border=\"1\" class=\"dataframe\">\n",
              "  <thead>\n",
              "    <tr style=\"text-align: right;\">\n",
              "      <th></th>\n",
              "      <th>pclass</th>\n",
              "      <th>age</th>\n",
              "      <th>parch</th>\n",
              "    </tr>\n",
              "  </thead>\n",
              "  <tbody>\n",
              "    <tr>\n",
              "      <th>count</th>\n",
              "      <td>712.000000</td>\n",
              "      <td>712.000000</td>\n",
              "      <td>712.000000</td>\n",
              "    </tr>\n",
              "    <tr>\n",
              "      <th>mean</th>\n",
              "      <td>2.306180</td>\n",
              "      <td>29.554091</td>\n",
              "      <td>0.391854</td>\n",
              "    </tr>\n",
              "    <tr>\n",
              "      <th>std</th>\n",
              "      <td>0.844651</td>\n",
              "      <td>13.000763</td>\n",
              "      <td>0.797035</td>\n",
              "    </tr>\n",
              "    <tr>\n",
              "      <th>min</th>\n",
              "      <td>1.000000</td>\n",
              "      <td>0.420000</td>\n",
              "      <td>0.000000</td>\n",
              "    </tr>\n",
              "    <tr>\n",
              "      <th>25%</th>\n",
              "      <td>1.750000</td>\n",
              "      <td>22.000000</td>\n",
              "      <td>0.000000</td>\n",
              "    </tr>\n",
              "    <tr>\n",
              "      <th>50%</th>\n",
              "      <td>3.000000</td>\n",
              "      <td>29.699118</td>\n",
              "      <td>0.000000</td>\n",
              "    </tr>\n",
              "    <tr>\n",
              "      <th>75%</th>\n",
              "      <td>3.000000</td>\n",
              "      <td>35.000000</td>\n",
              "      <td>0.000000</td>\n",
              "    </tr>\n",
              "    <tr>\n",
              "      <th>max</th>\n",
              "      <td>3.000000</td>\n",
              "      <td>71.000000</td>\n",
              "      <td>5.000000</td>\n",
              "    </tr>\n",
              "  </tbody>\n",
              "</table>\n",
              "</div>"
            ],
            "text/plain": [
              "           pclass         age       parch\n",
              "count  712.000000  712.000000  712.000000\n",
              "mean     2.306180   29.554091    0.391854\n",
              "std      0.844651   13.000763    0.797035\n",
              "min      1.000000    0.420000    0.000000\n",
              "25%      1.750000   22.000000    0.000000\n",
              "50%      3.000000   29.699118    0.000000\n",
              "75%      3.000000   35.000000    0.000000\n",
              "max      3.000000   71.000000    5.000000"
            ]
          },
          "metadata": {
            "tags": []
          },
          "execution_count": 15
        }
      ]
    },
    {
      "cell_type": "code",
      "metadata": {
        "id": "M_6FBkxN7_2A",
        "colab_type": "code",
        "colab": {}
      },
      "source": [
        "# Now let tranform the data into scalled mode\n",
        "X_train_sc = sc.transform(X_train)\n",
        "X_test_sc = sc.transform(X_test)"
      ],
      "execution_count": 16,
      "outputs": []
    },
    {
      "cell_type": "code",
      "metadata": {
        "id": "eP5eiweR8KOk",
        "colab_type": "code",
        "colab": {
          "base_uri": "https://localhost:8080/",
          "height": 134
        },
        "outputId": "5406aa20-3052-4016-f1f9-e74c7144e4f9"
      },
      "source": [
        "# Let's check the tranformed data\n",
        "X_train_sc\n",
        "\n",
        "# but we will get into 2D array format"
      ],
      "execution_count": 17,
      "outputs": [
        {
          "output_type": "execute_result",
          "data": {
            "text/plain": [
              "array([[ 0.8220055 , -0.42751304, -0.49198545],\n",
              "       [ 0.8220055 ,  1.997125  , -0.49198545],\n",
              "       [ 0.8220055 , -1.42815732, -0.49198545],\n",
              "       ...,\n",
              "       [ 0.8220055 ,  1.41983023,  3.27461284],\n",
              "       [ 0.8220055 ,  0.01116307,  0.76354731],\n",
              "       [ 0.8220055 , -0.08113618, -0.49198545]])"
            ]
          },
          "metadata": {
            "tags": []
          },
          "execution_count": 17
        }
      ]
    },
    {
      "cell_type": "code",
      "metadata": {
        "id": "iRr17wGs8STh",
        "colab_type": "code",
        "colab": {}
      },
      "source": [
        "# Let's take all array in the datafram\n",
        "X_train_sc =  pd.DataFrame(X_train_sc, columns = [\"pclass\",'age','parch'])\n",
        "X_test_sc =  pd.DataFrame(X_test_sc, columns = [\"pclass\",'age','parch'])"
      ],
      "execution_count": 18,
      "outputs": []
    },
    {
      "cell_type": "code",
      "metadata": {
        "id": "qcc0Awlf8bFh",
        "colab_type": "code",
        "colab": {
          "base_uri": "https://localhost:8080/",
          "height": 195
        },
        "outputId": "7862fa33-1975-40da-939e-292e6b50c050"
      },
      "source": [
        "# check tranformed train data\n",
        "X_train_sc.head()"
      ],
      "execution_count": 19,
      "outputs": [
        {
          "output_type": "execute_result",
          "data": {
            "text/html": [
              "<div>\n",
              "<style scoped>\n",
              "    .dataframe tbody tr th:only-of-type {\n",
              "        vertical-align: middle;\n",
              "    }\n",
              "\n",
              "    .dataframe tbody tr th {\n",
              "        vertical-align: top;\n",
              "    }\n",
              "\n",
              "    .dataframe thead th {\n",
              "        text-align: right;\n",
              "    }\n",
              "</style>\n",
              "<table border=\"1\" class=\"dataframe\">\n",
              "  <thead>\n",
              "    <tr style=\"text-align: right;\">\n",
              "      <th></th>\n",
              "      <th>pclass</th>\n",
              "      <th>age</th>\n",
              "      <th>parch</th>\n",
              "    </tr>\n",
              "  </thead>\n",
              "  <tbody>\n",
              "    <tr>\n",
              "      <th>0</th>\n",
              "      <td>0.822005</td>\n",
              "      <td>-0.427513</td>\n",
              "      <td>-0.491985</td>\n",
              "    </tr>\n",
              "    <tr>\n",
              "      <th>1</th>\n",
              "      <td>0.822005</td>\n",
              "      <td>1.997125</td>\n",
              "      <td>-0.491985</td>\n",
              "    </tr>\n",
              "    <tr>\n",
              "      <th>2</th>\n",
              "      <td>0.822005</td>\n",
              "      <td>-1.428157</td>\n",
              "      <td>-0.491985</td>\n",
              "    </tr>\n",
              "    <tr>\n",
              "      <th>3</th>\n",
              "      <td>0.822005</td>\n",
              "      <td>-0.889349</td>\n",
              "      <td>-0.491985</td>\n",
              "    </tr>\n",
              "    <tr>\n",
              "      <th>4</th>\n",
              "      <td>0.822005</td>\n",
              "      <td>0.011163</td>\n",
              "      <td>2.019080</td>\n",
              "    </tr>\n",
              "  </tbody>\n",
              "</table>\n",
              "</div>"
            ],
            "text/plain": [
              "     pclass       age     parch\n",
              "0  0.822005 -0.427513 -0.491985\n",
              "1  0.822005  1.997125 -0.491985\n",
              "2  0.822005 -1.428157 -0.491985\n",
              "3  0.822005 -0.889349 -0.491985\n",
              "4  0.822005  0.011163  2.019080"
            ]
          },
          "metadata": {
            "tags": []
          },
          "execution_count": 19
        }
      ]
    },
    {
      "cell_type": "code",
      "metadata": {
        "id": "C5R0mb-18i5V",
        "colab_type": "code",
        "colab": {
          "base_uri": "https://localhost:8080/",
          "height": 284
        },
        "outputId": "8da5baee-6604-40bb-90a0-96c4df939e0c"
      },
      "source": [
        "X_train_sc.describe()"
      ],
      "execution_count": 20,
      "outputs": [
        {
          "output_type": "execute_result",
          "data": {
            "text/html": [
              "<div>\n",
              "<style scoped>\n",
              "    .dataframe tbody tr th:only-of-type {\n",
              "        vertical-align: middle;\n",
              "    }\n",
              "\n",
              "    .dataframe tbody tr th {\n",
              "        vertical-align: top;\n",
              "    }\n",
              "\n",
              "    .dataframe thead th {\n",
              "        text-align: right;\n",
              "    }\n",
              "</style>\n",
              "<table border=\"1\" class=\"dataframe\">\n",
              "  <thead>\n",
              "    <tr style=\"text-align: right;\">\n",
              "      <th></th>\n",
              "      <th>pclass</th>\n",
              "      <th>age</th>\n",
              "      <th>parch</th>\n",
              "    </tr>\n",
              "  </thead>\n",
              "  <tbody>\n",
              "    <tr>\n",
              "      <th>count</th>\n",
              "      <td>7.120000e+02</td>\n",
              "      <td>7.120000e+02</td>\n",
              "      <td>7.120000e+02</td>\n",
              "    </tr>\n",
              "    <tr>\n",
              "      <th>mean</th>\n",
              "      <td>5.270441e-17</td>\n",
              "      <td>1.515642e-16</td>\n",
              "      <td>2.440308e-17</td>\n",
              "    </tr>\n",
              "    <tr>\n",
              "      <th>std</th>\n",
              "      <td>1.000703e+00</td>\n",
              "      <td>1.000703e+00</td>\n",
              "      <td>1.000703e+00</td>\n",
              "    </tr>\n",
              "    <tr>\n",
              "      <th>min</th>\n",
              "      <td>-1.547500e+00</td>\n",
              "      <td>-2.242528e+00</td>\n",
              "      <td>-4.919855e-01</td>\n",
              "    </tr>\n",
              "    <tr>\n",
              "      <th>25%</th>\n",
              "      <td>-6.589356e-01</td>\n",
              "      <td>-5.814583e-01</td>\n",
              "      <td>-4.919855e-01</td>\n",
              "    </tr>\n",
              "    <tr>\n",
              "      <th>50%</th>\n",
              "      <td>8.220055e-01</td>\n",
              "      <td>1.116307e-02</td>\n",
              "      <td>-4.919855e-01</td>\n",
              "    </tr>\n",
              "    <tr>\n",
              "      <th>75%</th>\n",
              "      <td>8.220055e-01</td>\n",
              "      <td>4.191860e-01</td>\n",
              "      <td>-4.919855e-01</td>\n",
              "    </tr>\n",
              "    <tr>\n",
              "      <th>max</th>\n",
              "      <td>8.220055e-01</td>\n",
              "      <td>3.190201e+00</td>\n",
              "      <td>5.785678e+00</td>\n",
              "    </tr>\n",
              "  </tbody>\n",
              "</table>\n",
              "</div>"
            ],
            "text/plain": [
              "             pclass           age         parch\n",
              "count  7.120000e+02  7.120000e+02  7.120000e+02\n",
              "mean   5.270441e-17  1.515642e-16  2.440308e-17\n",
              "std    1.000703e+00  1.000703e+00  1.000703e+00\n",
              "min   -1.547500e+00 -2.242528e+00 -4.919855e-01\n",
              "25%   -6.589356e-01 -5.814583e-01 -4.919855e-01\n",
              "50%    8.220055e-01  1.116307e-02 -4.919855e-01\n",
              "75%    8.220055e-01  4.191860e-01 -4.919855e-01\n",
              "max    8.220055e-01  3.190201e+00  5.785678e+00"
            ]
          },
          "metadata": {
            "tags": []
          },
          "execution_count": 20
        }
      ]
    },
    {
      "cell_type": "markdown",
      "metadata": {
        "id": "Qjkjaua98qdQ",
        "colab_type": "text"
      },
      "source": [
        "**We got this statistics because values is in float with more decimal number, that we couldn't get min value 0. So let's round the value, then will get exact value**\n"
      ]
    },
    {
      "cell_type": "code",
      "metadata": {
        "id": "PdKdRqEv8kg5",
        "colab_type": "code",
        "colab": {
          "base_uri": "https://localhost:8080/",
          "height": 284
        },
        "outputId": "35f3a6d7-cddf-4855-a8a1-47ae360bfeb4"
      },
      "source": [
        "X_train_sc.describe().round(2)"
      ],
      "execution_count": 21,
      "outputs": [
        {
          "output_type": "execute_result",
          "data": {
            "text/html": [
              "<div>\n",
              "<style scoped>\n",
              "    .dataframe tbody tr th:only-of-type {\n",
              "        vertical-align: middle;\n",
              "    }\n",
              "\n",
              "    .dataframe tbody tr th {\n",
              "        vertical-align: top;\n",
              "    }\n",
              "\n",
              "    .dataframe thead th {\n",
              "        text-align: right;\n",
              "    }\n",
              "</style>\n",
              "<table border=\"1\" class=\"dataframe\">\n",
              "  <thead>\n",
              "    <tr style=\"text-align: right;\">\n",
              "      <th></th>\n",
              "      <th>pclass</th>\n",
              "      <th>age</th>\n",
              "      <th>parch</th>\n",
              "    </tr>\n",
              "  </thead>\n",
              "  <tbody>\n",
              "    <tr>\n",
              "      <th>count</th>\n",
              "      <td>712.00</td>\n",
              "      <td>712.00</td>\n",
              "      <td>712.00</td>\n",
              "    </tr>\n",
              "    <tr>\n",
              "      <th>mean</th>\n",
              "      <td>0.00</td>\n",
              "      <td>0.00</td>\n",
              "      <td>0.00</td>\n",
              "    </tr>\n",
              "    <tr>\n",
              "      <th>std</th>\n",
              "      <td>1.00</td>\n",
              "      <td>1.00</td>\n",
              "      <td>1.00</td>\n",
              "    </tr>\n",
              "    <tr>\n",
              "      <th>min</th>\n",
              "      <td>-1.55</td>\n",
              "      <td>-2.24</td>\n",
              "      <td>-0.49</td>\n",
              "    </tr>\n",
              "    <tr>\n",
              "      <th>25%</th>\n",
              "      <td>-0.66</td>\n",
              "      <td>-0.58</td>\n",
              "      <td>-0.49</td>\n",
              "    </tr>\n",
              "    <tr>\n",
              "      <th>50%</th>\n",
              "      <td>0.82</td>\n",
              "      <td>0.01</td>\n",
              "      <td>-0.49</td>\n",
              "    </tr>\n",
              "    <tr>\n",
              "      <th>75%</th>\n",
              "      <td>0.82</td>\n",
              "      <td>0.42</td>\n",
              "      <td>-0.49</td>\n",
              "    </tr>\n",
              "    <tr>\n",
              "      <th>max</th>\n",
              "      <td>0.82</td>\n",
              "      <td>3.19</td>\n",
              "      <td>5.79</td>\n",
              "    </tr>\n",
              "  </tbody>\n",
              "</table>\n",
              "</div>"
            ],
            "text/plain": [
              "       pclass     age   parch\n",
              "count  712.00  712.00  712.00\n",
              "mean     0.00    0.00    0.00\n",
              "std      1.00    1.00    1.00\n",
              "min     -1.55   -2.24   -0.49\n",
              "25%     -0.66   -0.58   -0.49\n",
              "50%      0.82    0.01   -0.49\n",
              "75%      0.82    0.42   -0.49\n",
              "max      0.82    3.19    5.79"
            ]
          },
          "metadata": {
            "tags": []
          },
          "execution_count": 21
        }
      ]
    },
    {
      "cell_type": "markdown",
      "metadata": {
        "id": "f2h8WIw79Kh5",
        "colab_type": "text"
      },
      "source": [
        "## Feature Scaling (Min-Max Scaler)"
      ]
    },
    {
      "cell_type": "code",
      "metadata": {
        "id": "UfYjB--e9Ep8",
        "colab_type": "code",
        "colab": {
          "base_uri": "https://localhost:8080/",
          "height": 34
        },
        "outputId": "f454964f-1561-4891-df4c-fe74bcd4a84a"
      },
      "source": [
        "# Will do lik same, firstly will create object\n",
        "mmc = MinMaxScaler()\n",
        "\n",
        "# Then will fir the train dataset\n",
        "mmc.fit(X_train)"
      ],
      "execution_count": 22,
      "outputs": [
        {
          "output_type": "execute_result",
          "data": {
            "text/plain": [
              "MinMaxScaler(copy=True, feature_range=(0, 1))"
            ]
          },
          "metadata": {
            "tags": []
          },
          "execution_count": 22
        }
      ]
    },
    {
      "cell_type": "code",
      "metadata": {
        "id": "dYY_16pR-aa0",
        "colab_type": "code",
        "colab": {}
      },
      "source": [
        "# Now will tranform the train and test data\n",
        "X_train_mmc = mmc.transform(X_train)\n",
        "X_test_mmc = mmc.transform(X_test)"
      ],
      "execution_count": 23,
      "outputs": []
    },
    {
      "cell_type": "code",
      "metadata": {
        "id": "1gdZ7hub-moS",
        "colab_type": "code",
        "colab": {
          "base_uri": "https://localhost:8080/",
          "height": 134
        },
        "outputId": "2b9f0b3f-477e-4295-a6c5-7a664affda76"
      },
      "source": [
        "# Let' check, we will get 2D array\n",
        "X_train_mmc"
      ],
      "execution_count": 24,
      "outputs": [
        {
          "output_type": "execute_result",
          "data": {
            "text/plain": [
              "array([[1.        , 0.33408898, 0.        ],\n",
              "       [1.        , 0.78039105, 0.        ],\n",
              "       [1.        , 0.14990082, 0.        ],\n",
              "       ...,\n",
              "       [1.        , 0.67412865, 0.6       ],\n",
              "       [1.        , 0.4148359 , 0.2       ],\n",
              "       [1.        , 0.39784642, 0.        ]])"
            ]
          },
          "metadata": {
            "tags": []
          },
          "execution_count": 24
        }
      ]
    },
    {
      "cell_type": "code",
      "metadata": {
        "id": "dg_dPi-3_DzV",
        "colab_type": "code",
        "colab": {}
      },
      "source": [
        "# Let's take all into DataFrame\n",
        "X_train_mmc =  pd.DataFrame(X_train_mmc, columns = [\"pclass\",'age','parch'])\n",
        "X_test_mmc =  pd.DataFrame(X_test_mmc, columns = [\"pclass\",'age','parch'])"
      ],
      "execution_count": 27,
      "outputs": []
    },
    {
      "cell_type": "code",
      "metadata": {
        "id": "xDlyeu-m-sHI",
        "colab_type": "code",
        "colab": {
          "base_uri": "https://localhost:8080/",
          "height": 284
        },
        "outputId": "ebd00209-0815-4b5c-da6b-b3ec88ee8157"
      },
      "source": [
        "# now check statiscs\n",
        "X_train_mmc.describe().round(2)"
      ],
      "execution_count": 29,
      "outputs": [
        {
          "output_type": "execute_result",
          "data": {
            "text/html": [
              "<div>\n",
              "<style scoped>\n",
              "    .dataframe tbody tr th:only-of-type {\n",
              "        vertical-align: middle;\n",
              "    }\n",
              "\n",
              "    .dataframe tbody tr th {\n",
              "        vertical-align: top;\n",
              "    }\n",
              "\n",
              "    .dataframe thead th {\n",
              "        text-align: right;\n",
              "    }\n",
              "</style>\n",
              "<table border=\"1\" class=\"dataframe\">\n",
              "  <thead>\n",
              "    <tr style=\"text-align: right;\">\n",
              "      <th></th>\n",
              "      <th>pclass</th>\n",
              "      <th>age</th>\n",
              "      <th>parch</th>\n",
              "    </tr>\n",
              "  </thead>\n",
              "  <tbody>\n",
              "    <tr>\n",
              "      <th>count</th>\n",
              "      <td>712.00</td>\n",
              "      <td>712.00</td>\n",
              "      <td>712.00</td>\n",
              "    </tr>\n",
              "    <tr>\n",
              "      <th>mean</th>\n",
              "      <td>0.65</td>\n",
              "      <td>0.41</td>\n",
              "      <td>0.08</td>\n",
              "    </tr>\n",
              "    <tr>\n",
              "      <th>std</th>\n",
              "      <td>0.42</td>\n",
              "      <td>0.18</td>\n",
              "      <td>0.16</td>\n",
              "    </tr>\n",
              "    <tr>\n",
              "      <th>min</th>\n",
              "      <td>0.00</td>\n",
              "      <td>0.00</td>\n",
              "      <td>0.00</td>\n",
              "    </tr>\n",
              "    <tr>\n",
              "      <th>25%</th>\n",
              "      <td>0.38</td>\n",
              "      <td>0.31</td>\n",
              "      <td>0.00</td>\n",
              "    </tr>\n",
              "    <tr>\n",
              "      <th>50%</th>\n",
              "      <td>1.00</td>\n",
              "      <td>0.41</td>\n",
              "      <td>0.00</td>\n",
              "    </tr>\n",
              "    <tr>\n",
              "      <th>75%</th>\n",
              "      <td>1.00</td>\n",
              "      <td>0.49</td>\n",
              "      <td>0.00</td>\n",
              "    </tr>\n",
              "    <tr>\n",
              "      <th>max</th>\n",
              "      <td>1.00</td>\n",
              "      <td>1.00</td>\n",
              "      <td>1.00</td>\n",
              "    </tr>\n",
              "  </tbody>\n",
              "</table>\n",
              "</div>"
            ],
            "text/plain": [
              "       pclass     age   parch\n",
              "count  712.00  712.00  712.00\n",
              "mean     0.65    0.41    0.08\n",
              "std      0.42    0.18    0.16\n",
              "min      0.00    0.00    0.00\n",
              "25%      0.38    0.31    0.00\n",
              "50%      1.00    0.41    0.00\n",
              "75%      1.00    0.49    0.00\n",
              "max      1.00    1.00    1.00"
            ]
          },
          "metadata": {
            "tags": []
          },
          "execution_count": 29
        }
      ]
    },
    {
      "cell_type": "markdown",
      "metadata": {
        "id": "myLBkxKM_Ncg",
        "colab_type": "text"
      },
      "source": [
        "## Let verify changes with PairPlot\n"
      ]
    },
    {
      "cell_type": "code",
      "metadata": {
        "id": "7V15tLbL-xM8",
        "colab_type": "code",
        "colab": {
          "base_uri": "https://localhost:8080/",
          "height": 584
        },
        "outputId": "f3cf8a6b-fe95-4deb-b2ba-8c44ffe1cd4b"
      },
      "source": [
        "# Let check the original train dataset\n",
        "sns.pairplot(X_train)"
      ],
      "execution_count": 30,
      "outputs": [
        {
          "output_type": "execute_result",
          "data": {
            "text/plain": [
              "<seaborn.axisgrid.PairGrid at 0x7fa28ff0a2e8>"
            ]
          },
          "metadata": {
            "tags": []
          },
          "execution_count": 30
        },
        {
          "output_type": "display_data",
          "data": {
            "image/png": "[encoded data removed]",
            "text/plain": [
              "<Figure size 540x540 with 12 Axes>"
            ]
          },
          "metadata": {
            "tags": [],
            "needs_background": "light"
          }
        }
      ]
    },
    {
      "cell_type": "code",
      "metadata": {
        "id": "0Am0JfCl_V1n",
        "colab_type": "code",
        "colab": {
          "base_uri": "https://localhost:8080/",
          "height": 584
        },
        "outputId": "c86a0985-0eb4-4ec5-ed83-4c07da731ed7"
      },
      "source": [
        "# Let's check of standarlized train data\n",
        "sns.pairplot(X_train_sc)"
      ],
      "execution_count": 31,
      "outputs": [
        {
          "output_type": "execute_result",
          "data": {
            "text/plain": [
              "<seaborn.axisgrid.PairGrid at 0x7fa28d247b70>"
            ]
          },
          "metadata": {
            "tags": []
          },
          "execution_count": 31
        },
        {
          "output_type": "display_data",
          "data": {
            "image/png": "[encoded data removed]",
            "text/plain": [
              "<Figure size 540x540 with 12 Axes>"
            ]
          },
          "metadata": {
            "tags": [],
            "needs_background": "light"
          }
        }
      ]
    },
    {
      "cell_type": "code",
      "metadata": {
        "id": "aZGoyIJK_mmX",
        "colab_type": "code",
        "colab": {
          "base_uri": "https://localhost:8080/",
          "height": 584
        },
        "outputId": "92a5be4b-f640-4fc4-8487-9c2aa96560f5"
      },
      "source": [
        "# Let's check the normalized train data\n",
        "sns.pairplot(X_train_mmc)"
      ],
      "execution_count": 32,
      "outputs": [
        {
          "output_type": "execute_result",
          "data": {
            "text/plain": [
              "<seaborn.axisgrid.PairGrid at 0x7fa28ca02470>"
            ]
          },
          "metadata": {
            "tags": []
          },
          "execution_count": 32
        },
        {
          "output_type": "display_data",
          "data": {
            "image/png": "[encoded data removed]",
            "text/plain": [
              "<Figure size 540x540 with 12 Axes>"
            ]
          },
          "metadata": {
            "tags": [],
            "needs_background": "light"
          }
        }
      ]
    },
    {
      "cell_type": "code",
      "metadata": {
        "id": "YDvfkKL4_qsB",
        "colab_type": "code",
        "colab": {}
      },
      "source": [
        ""
      ],
      "execution_count": null,
      "outputs": []
    }
  ]
}